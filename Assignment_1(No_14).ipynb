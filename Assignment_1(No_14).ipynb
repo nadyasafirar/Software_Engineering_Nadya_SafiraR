{
  "nbformat": 4,
  "nbformat_minor": 0,
  "metadata": {
    "colab": {
      "name": "Assignment 1(No.14).ipynb",
      "provenance": [],
      "collapsed_sections": []
    },
    "kernelspec": {
      "name": "python3",
      "display_name": "Python 3"
    },
    "language_info": {
      "name": "python"
    }
  },
  "cells": [
    {
      "cell_type": "code",
      "metadata": {
        "colab": {
          "base_uri": "https://localhost:8080/"
        },
        "id": "fbYkinDTGqCv",
        "outputId": "e28e126e-ba5d-4ffe-f9e5-7cee4c9ebff9"
      },
      "source": [
        "print(\"Area and Perimeter\")\n",
        "\n",
        "side = int(input(\"Input Side : \"))\n",
        "\n",
        "def areaSquare( side ):\n",
        "    area = side * side\n",
        "    perimeter = 4 * side\n",
        "    return area, perimeter\n",
        " \n",
        "print(areaSquare(side))\n"
      ],
      "execution_count": 1,
      "outputs": [
        {
          "output_type": "stream",
          "name": "stdout",
          "text": [
            "Area and Perimeter\n",
            "Input Side : 4\n",
            "(16, 16)\n"
          ]
        }
      ]
    }
  ]
}