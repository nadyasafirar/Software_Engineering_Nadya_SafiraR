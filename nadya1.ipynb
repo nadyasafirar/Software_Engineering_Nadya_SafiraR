{
  "nbformat": 4,
  "nbformat_minor": 0,
  "metadata": {
    "colab": {
      "name": "nadya1.ipynb",
      "provenance": [],
      "collapsed_sections": []
    },
    "kernelspec": {
      "name": "python3",
      "display_name": "Python 3"
    },
    "language_info": {
      "name": "python"
    }
  },
  "cells": [
    {
      "cell_type": "code",
      "metadata": {
        "id": "86VtsEpnJzfm"
      },
      "source": [
        "# contoh contoh variable\n",
        "a = 10 #Integer\n",
        "b = 3.14 #Float\n",
        "c = \"A\" #String\n",
        "d = 'Nadya Safira' #String\n",
        "f = True #Boolean\n",
        "g = False #Booleab\n",
        "h = [] #List\n",
        "i = {} #Dictionary \n",
        "j = () #Tuple "
      ],
      "execution_count": 4,
      "outputs": []
    },
    {
      "cell_type": "code",
      "metadata": {
        "colab": {
          "base_uri": "https://localhost:8080/"
        },
        "id": "pt6azTYKKhX_",
        "outputId": "f09b8a1a-9712-45df-851e-78d9ba06da05"
      },
      "source": [
        "# Print \n",
        "\n",
        "print(\"nadya safira\")\n",
        "print('hai hai')\n",
        "\n"
      ],
      "execution_count": 1,
      "outputs": [
        {
          "output_type": "stream",
          "name": "stdout",
          "text": [
            "nadya safira\n",
            "hai hai\n"
          ]
        }
      ]
    },
    {
      "cell_type": "code",
      "metadata": {
        "colab": {
          "base_uri": "https://localhost:8080/"
        },
        "id": "uBY4X5NJK-3l",
        "outputId": "f4623f12-6b8f-4828-ccc2-d0bcc17f9059"
      },
      "source": [
        "print(2)\n",
        "print(2+3*10)"
      ],
      "execution_count": 2,
      "outputs": [
        {
          "output_type": "stream",
          "name": "stdout",
          "text": [
            "2\n",
            "32\n"
          ]
        }
      ]
    },
    {
      "cell_type": "code",
      "metadata": {
        "colab": {
          "base_uri": "https://localhost:8080/"
        },
        "id": "VL953o2oLKiu",
        "outputId": "6950242f-32c0-4f37-a907-29b14780888e"
      },
      "source": [
        "print(d)"
      ],
      "execution_count": 5,
      "outputs": [
        {
          "output_type": "stream",
          "name": "stdout",
          "text": [
            "Nadya Safira\n"
          ]
        }
      ]
    },
    {
      "cell_type": "code",
      "metadata": {
        "colab": {
          "base_uri": "https://localhost:8080/"
        },
        "id": "43BlRV7pLYsx",
        "outputId": "69645ec1-e504-430d-cdf4-0ea7948be25c"
      },
      "source": [
        "# Concate\n",
        "print(\"Hai \" + d)"
      ],
      "execution_count": 6,
      "outputs": [
        {
          "output_type": "stream",
          "name": "stdout",
          "text": [
            "Hai Nadya Safira\n"
          ]
        }
      ]
    },
    {
      "cell_type": "code",
      "metadata": {
        "colab": {
          "base_uri": "https://localhost:8080/"
        },
        "id": "Yigk2j6nLtBE",
        "outputId": "483ca479-9c0e-44ca-f334-6a83cb80f206"
      },
      "source": [
        "print(\"my name {}\".format(d))"
      ],
      "execution_count": 10,
      "outputs": [
        {
          "output_type": "stream",
          "name": "stdout",
          "text": [
            "my name Nadya Safira\n"
          ]
        }
      ]
    },
    {
      "cell_type": "code",
      "metadata": {
        "colab": {
          "base_uri": "https://localhost:8080/"
        },
        "id": "85NUb3UNM7g_",
        "outputId": "0735bb4f-525e-40c7-8cd3-514ca646698f"
      },
      "source": [
        "print(\"nilainya adalah \" )"
      ],
      "execution_count": 11,
      "outputs": [
        {
          "output_type": "stream",
          "name": "stdout",
          "text": [
            "nilainya adalah \n"
          ]
        }
      ]
    },
    {
      "cell_type": "code",
      "metadata": {
        "colab": {
          "base_uri": "https://localhost:8080/"
        },
        "id": "4ABMOtEENiBE",
        "outputId": "76939a9c-f1f2-4a1a-c826-07047b87a8aa"
      },
      "source": [
        "print(\"namaku {}, nilai ujian {}, dan aku orang jambi {}\".format(d,a,f))"
      ],
      "execution_count": 12,
      "outputs": [
        {
          "output_type": "stream",
          "name": "stdout",
          "text": [
            "namaku Nadya Safira, nilai ujian 10, dan aku orang jambi True\n"
          ]
        }
      ]
    },
    {
      "cell_type": "code",
      "metadata": {
        "colab": {
          "base_uri": "https://localhost:8080/"
        },
        "id": "o5QRCWyROC4E",
        "outputId": "6e52acee-be6e-4a2b-b720-249faf4fe0a3"
      },
      "source": [
        "print(\"Nilainya adalah \" + str(a))"
      ],
      "execution_count": 13,
      "outputs": [
        {
          "output_type": "stream",
          "name": "stdout",
          "text": [
            "Nilainya adalah 10\n"
          ]
        }
      ]
    },
    {
      "cell_type": "code",
      "metadata": {
        "colab": {
          "base_uri": "https://localhost:8080/"
        },
        "id": "8QG2qiseOOSt",
        "outputId": "629c30fd-edb4-4b6d-b594-bbf13f977d6c"
      },
      "source": [
        "print(\"Nilainya adalah{}\".format(a))"
      ],
      "execution_count": 14,
      "outputs": [
        {
          "output_type": "stream",
          "name": "stdout",
          "text": [
            "Nilainya adalah10\n"
          ]
        }
      ]
    },
    {
      "cell_type": "code",
      "metadata": {
        "colab": {
          "base_uri": "https://localhost:8080/"
        },
        "id": "A_Gpvyo1T7LV",
        "outputId": "ad8faefb-317b-4682-d05f-c20852460d43"
      },
      "source": [
        "print(\"Namaku {}, Nilai ujianku{}, dan aku orang bekasi{}\".format(d,a,f))"
      ],
      "execution_count": 16,
      "outputs": [
        {
          "output_type": "stream",
          "name": "stdout",
          "text": [
            "Namaku Nadya Safira, Nilai ujianku10, dan aku orang bekasiTrue\n"
          ]
        }
      ]
    },
    {
      "cell_type": "code",
      "metadata": {
        "id": "gX-PBBvGUqCg"
      },
      "source": [
        "Sekolah = [\"Kelas\", 10, True, 3.14, [\"bambang\", \"Budi\", \"Joko\"],{\"Hewan\":\"Gajah\"}]"
      ],
      "execution_count": 20,
      "outputs": []
    },
    {
      "cell_type": "code",
      "metadata": {
        "colab": {
          "base_uri": "https://localhost:8080/",
          "height": 35
        },
        "id": "aUGbYZnrVNqa",
        "outputId": "42ef4d7b-329e-4092-cf37-4bcf84262c61"
      },
      "source": [
        "Sekolah[0]"
      ],
      "execution_count": 21,
      "outputs": [
        {
          "output_type": "execute_result",
          "data": {
            "application/vnd.google.colaboratory.intrinsic+json": {
              "type": "string"
            },
            "text/plain": [
              "'Kelas'"
            ]
          },
          "metadata": {},
          "execution_count": 21
        }
      ]
    },
    {
      "cell_type": "code",
      "metadata": {
        "colab": {
          "base_uri": "https://localhost:8080/"
        },
        "id": "f80aKAQPVULj",
        "outputId": "79827004-10eb-4756-b079-34d56b31c87e"
      },
      "source": [
        "Sekolah[4]"
      ],
      "execution_count": 22,
      "outputs": [
        {
          "output_type": "execute_result",
          "data": {
            "text/plain": [
              "['bambang', 'Budi', 'Joko']"
            ]
          },
          "metadata": {},
          "execution_count": 22
        }
      ]
    },
    {
      "cell_type": "code",
      "metadata": {
        "colab": {
          "base_uri": "https://localhost:8080/",
          "height": 35
        },
        "id": "azaopPHhVcJj",
        "outputId": "67e27e19-342d-418e-fcaa-a78263a4f60e"
      },
      "source": [
        "Sekolah[-1][\"Hewan\"]"
      ],
      "execution_count": 23,
      "outputs": [
        {
          "output_type": "execute_result",
          "data": {
            "application/vnd.google.colaboratory.intrinsic+json": {
              "type": "string"
            },
            "text/plain": [
              "'Gajah'"
            ]
          },
          "metadata": {},
          "execution_count": 23
        }
      ]
    },
    {
      "cell_type": "code",
      "metadata": {
        "id": "PM8PTnukWHBY"
      },
      "source": [
        "Nama_siswa = [\"kiki\",\"hana\",\"alvi\",\"Lula\", \"nala\", \"lala\"]"
      ],
      "execution_count": 24,
      "outputs": []
    },
    {
      "cell_type": "code",
      "metadata": {
        "colab": {
          "base_uri": "https://localhost:8080/"
        },
        "id": "JfIAa2UeWd3w",
        "outputId": "e2e5aa80-2efc-4e21-b3fd-23fb10b237e6"
      },
      "source": [
        "Nama_siswa[2:5] #2,3,4"
      ],
      "execution_count": 25,
      "outputs": [
        {
          "output_type": "execute_result",
          "data": {
            "text/plain": [
              "['alvi', 'Lula', 'nala']"
            ]
          },
          "metadata": {},
          "execution_count": 25
        }
      ]
    },
    {
      "cell_type": "code",
      "metadata": {
        "colab": {
          "base_uri": "https://localhost:8080/"
        },
        "id": "aS2AwEgUWqB9",
        "outputId": "1067663c-d054-409e-e211-7e94c55501ef"
      },
      "source": [
        "Nama_siswa[-2:]"
      ],
      "execution_count": 26,
      "outputs": [
        {
          "output_type": "execute_result",
          "data": {
            "text/plain": [
              "['nala', 'lala']"
            ]
          },
          "metadata": {},
          "execution_count": 26
        }
      ]
    },
    {
      "cell_type": "code",
      "metadata": {
        "colab": {
          "base_uri": "https://localhost:8080/"
        },
        "id": "HWZ-PsCYWwLU",
        "outputId": "e7191330-3c30-4bd3-bde6-2e22cfd91b24"
      },
      "source": [
        "Nama_siswa[-4:]"
      ],
      "execution_count": 27,
      "outputs": [
        {
          "output_type": "execute_result",
          "data": {
            "text/plain": [
              "['alvi', 'Lula', 'nala', 'lala']"
            ]
          },
          "metadata": {},
          "execution_count": 27
        }
      ]
    },
    {
      "cell_type": "code",
      "metadata": {
        "id": "sZubaaiKXA5y"
      },
      "source": [
        "Dict1 = {\"Hewan\":\"Gajah\", 0:22, \"Boolean\":\"Benar\"}"
      ],
      "execution_count": 29,
      "outputs": []
    },
    {
      "cell_type": "code",
      "metadata": {
        "colab": {
          "base_uri": "https://localhost:8080/",
          "height": 35
        },
        "id": "Vv6_zENFXe3x",
        "outputId": "d3d5d560-3b9f-467f-afeb-bf37e5887fc3"
      },
      "source": [
        "Dict1[\"Hewan\"]"
      ],
      "execution_count": 30,
      "outputs": [
        {
          "output_type": "execute_result",
          "data": {
            "application/vnd.google.colaboratory.intrinsic+json": {
              "type": "string"
            },
            "text/plain": [
              "'Gajah'"
            ]
          },
          "metadata": {},
          "execution_count": 30
        }
      ]
    },
    {
      "cell_type": "code",
      "metadata": {
        "colab": {
          "base_uri": "https://localhost:8080/",
          "height": 35
        },
        "id": "5KP9Ee6LXtF0",
        "outputId": "86ef4fd6-8f3e-451f-fa33-3fa10b2e96ea"
      },
      "source": [
        "Dict1[\"Boolean\"]"
      ],
      "execution_count": 32,
      "outputs": [
        {
          "output_type": "execute_result",
          "data": {
            "application/vnd.google.colaboratory.intrinsic+json": {
              "type": "string"
            },
            "text/plain": [
              "'Benar'"
            ]
          },
          "metadata": {},
          "execution_count": 32
        }
      ]
    },
    {
      "cell_type": "code",
      "metadata": {
        "colab": {
          "base_uri": "https://localhost:8080/"
        },
        "id": "itJt6DKCX9Ci",
        "outputId": "c6eb6e4f-809f-4c1c-b2b9-8087f7d5fa96"
      },
      "source": [
        "# for(int i = 0;i<5;i++)\n",
        "Sekolah[0:5:2]"
      ],
      "execution_count": 33,
      "outputs": [
        {
          "output_type": "execute_result",
          "data": {
            "text/plain": [
              "['Kelas', True, ['bambang', 'Budi', 'Joko']]"
            ]
          },
          "metadata": {},
          "execution_count": 33
        }
      ]
    },
    {
      "cell_type": "code",
      "metadata": {
        "id": "yGSabgYoZFJ0"
      },
      "source": [
        "Nama_siswa = [\"kia\",\"yaya\",\"wawa\",\"ira\", \"haha\", \"tasya\"]"
      ],
      "execution_count": 36,
      "outputs": []
    },
    {
      "cell_type": "code",
      "metadata": {
        "colab": {
          "base_uri": "https://localhost:8080/"
        },
        "id": "TcV4HkWuasfJ",
        "outputId": "fe18b35c-9181-410c-ed98-ff00c58581bf"
      },
      "source": [
        "Nama_siswa[2:-1]"
      ],
      "execution_count": 37,
      "outputs": [
        {
          "output_type": "execute_result",
          "data": {
            "text/plain": [
              "['wawa', 'ira', 'haha']"
            ]
          },
          "metadata": {},
          "execution_count": 37
        }
      ]
    },
    {
      "cell_type": "code",
      "metadata": {
        "colab": {
          "base_uri": "https://localhost:8080/"
        },
        "id": "VASkkMl5a2ga",
        "outputId": "0a30f87f-261c-41bb-ed4e-2d6493f15b2c"
      },
      "source": [
        "Nama_siswa[0:-1]"
      ],
      "execution_count": 51,
      "outputs": [
        {
          "output_type": "execute_result",
          "data": {
            "text/plain": [
              "['kia', 'yaya', 'wawa', 'ira', 'haha']"
            ]
          },
          "metadata": {},
          "execution_count": 51
        }
      ]
    },
    {
      "cell_type": "code",
      "metadata": {
        "colab": {
          "base_uri": "https://localhost:8080/"
        },
        "id": "hXdR7otjgP4P",
        "outputId": "c3bf6455-575d-440c-ee75-ada2b41f0aa1"
      },
      "source": [
        "Nama_siswa[0:-1:4]"
      ],
      "execution_count": 53,
      "outputs": [
        {
          "output_type": "execute_result",
          "data": {
            "text/plain": [
              "['kia', 'haha']"
            ]
          },
          "metadata": {},
          "execution_count": 53
        }
      ]
    }
  ]
}